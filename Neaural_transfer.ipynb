{
  "nbformat": 4,
  "nbformat_minor": 0,
  "metadata": {
    "colab": {
      "name": "Neaural transfer.ipynb",
      "provenance": [],
      "authorship_tag": "ABX9TyOTdkwx+8TCGgmYUFfAyYL1",
      "include_colab_link": true
    },
    "kernelspec": {
      "name": "python3",
      "display_name": "Python 3"
    },
    "language_info": {
      "name": "python"
    },
    "accelerator": "GPU"
  },
  "cells": [
    {
      "cell_type": "markdown",
      "metadata": {
        "id": "view-in-github",
        "colab_type": "text"
      },
      "source": [
        "<a href=\"https://colab.research.google.com/github/Sheraz55/Deep-learning-course-practice/blob/main/Neaural_transfer.ipynb\" target=\"_parent\"><img src=\"https://colab.research.google.com/assets/colab-badge.svg\" alt=\"Open In Colab\"/></a>"
      ]
    },
    {
      "cell_type": "code",
      "metadata": {
        "id": "01cONyssN7uH"
      },
      "source": [
        "from keras.preprocessing.image import load_img, img_to_array\n",
        "target_image_path = '/content/Sheraz_pic (2).jpg'\n",
        "style_reference_image_path = '/content/style.jpg'\n",
        "width, height = load_img(target_image_path).size\n",
        "img_height = 400\n",
        "img_width = int(width * img_height / height)"
      ],
      "execution_count": 35,
      "outputs": []
    },
    {
      "cell_type": "code",
      "metadata": {
        "id": "P-eWCW04N7yE"
      },
      "source": [
        "import numpy as np\n",
        "from keras.applications import vgg19\n",
        "def preprocess_image(image_path):\n",
        "  img = load_img(image_path, target_size=(img_height, img_width))\n",
        "  img = img_to_array(img)\n",
        "  img = np.expand_dims(img, axis=0)\n",
        "  img = vgg19.preprocess_input(img)\n",
        "  return img"
      ],
      "execution_count": 36,
      "outputs": []
    },
    {
      "cell_type": "code",
      "metadata": {
        "id": "UCSkq5VSN70P"
      },
      "source": [
        "def deprocess_image(x):\n",
        "  x[:, :, 0] += 103.939\n",
        "  x[:, :, 1] += 116.779\n",
        "  x[:, :, 2] += 123.68\n",
        "  x = x[:, :, ::-1]\n",
        "  x = np.clip(x, 0, 255).astype('uint8')\n",
        "  return x"
      ],
      "execution_count": 37,
      "outputs": []
    },
    {
      "cell_type": "code",
      "metadata": {
        "colab": {
          "base_uri": "https://localhost:8080/"
        },
        "id": "s59F2g9bOSvi",
        "outputId": "784aaf0f-ba2b-42de-f63b-339580572c83"
      },
      "source": [
        "from keras import backend as K\n",
        "target_image = K.constant(preprocess_image(target_image_path))\n",
        "style_reference_image = K.constant(preprocess_image(style_reference_image_path))\n",
        "combination_image = K.placeholder((1, img_height, img_width, 3))\n",
        "\n",
        "input_tensor = K.concatenate([target_image,style_reference_image,combination_image], axis=0)\n",
        "model = vgg19.VGG19(input_tensor=input_tensor,weights='imagenet',include_top=False)\n",
        "print('Model loaded.')"
      ],
      "execution_count": 38,
      "outputs": [
        {
          "output_type": "stream",
          "name": "stdout",
          "text": [
            "Model loaded.\n"
          ]
        }
      ]
    },
    {
      "cell_type": "code",
      "metadata": {
        "id": "PWdrvx-NN72N"
      },
      "source": [
        "def content_loss(base, combination):\n",
        "  return K.sum(K.square(combination - base))"
      ],
      "execution_count": 39,
      "outputs": []
    },
    {
      "cell_type": "code",
      "metadata": {
        "id": "EmaYwL7UOfgh"
      },
      "source": [
        "def gram_matrix(x):\n",
        "  features = K.batch_flatten(K.permute_dimensions(x, (2, 0, 1)))\n",
        "  gram = K.dot(features, K.transpose(features))\n",
        "  return gram\n",
        "def style_loss(style, combination):\n",
        "  S = gram_matrix(style)\n",
        "  C = gram_matrix(combination)\n",
        "  channels = 3\n",
        "  size = img_height * img_width\n",
        "  return K.sum(K.square(S - C)) / (4. * (channels ** 2) * (size ** 2))"
      ],
      "execution_count": 40,
      "outputs": []
    },
    {
      "cell_type": "code",
      "metadata": {
        "id": "2DfoyqK5Op0S"
      },
      "source": [
        "def total_variation_loss(x):\n",
        "  a = K.square(\n",
        "    x[:, :img_height - 1, :img_width - 1, :] -\n",
        "    x[:, 1:, :img_width - 1, :])\n",
        "  b = K.square(\n",
        "    x[:, :img_height - 1, :img_width - 1, :] -\n",
        "    x[:, :img_height - 1, 1:, :])\n",
        "  return K.sum(K.pow(a + b, 1.25))"
      ],
      "execution_count": 41,
      "outputs": []
    },
    {
      "cell_type": "code",
      "metadata": {
        "id": "rB7danVqOuaW"
      },
      "source": [
        "outputs_dict = dict([(layer.name, layer.output) for layer in model.layers])\n",
        "content_layer = 'block5_conv2'\n",
        "style_layers = ['block1_conv1',\n",
        "                'block2_conv1',\n",
        "                'block3_conv1',\n",
        "                'block4_conv1',\n",
        "                'block5_conv1']\n",
        "total_variation_weight = 1e-4\n",
        "style_weight = 1.\n",
        "content_weight = 0.025"
      ],
      "execution_count": 42,
      "outputs": []
    },
    {
      "cell_type": "code",
      "metadata": {
        "id": "CiaVrear6vNT"
      },
      "source": [
        "\n",
        "loss = K.variable(0.)\n",
        "layer_features = outputs_dict[content_layer]\n",
        "target_image_features = layer_features[0, :, :, :]\n",
        "combination_features = layer_features[2, :, :, :]\n",
        "\n"
      ],
      "execution_count": 43,
      "outputs": []
    },
    {
      "cell_type": "code",
      "metadata": {
        "id": "VjxzWKddBC-Z"
      },
      "source": [
        "loss = loss + (content_weight * content_loss(target_image_features,combination_features))\n",
        "\n"
      ],
      "execution_count": 44,
      "outputs": []
    },
    {
      "cell_type": "code",
      "metadata": {
        "id": "qMkD3NRN6LLz"
      },
      "source": [
        "for layer_name in style_layers:\n",
        "  layer_features = outputs_dict[layer_name]\n",
        "  style_reference_features = layer_features[1, :, :, :]\n",
        "  combination_features = layer_features[2, :, :, :]\n",
        "  sl = style_loss(style_reference_features, combination_features)\n",
        "  loss = loss + ( (style_weight / len(style_layers)) * sl)  \n",
        "loss = loss + ( total_variation_weight * total_variation_loss(combination_image))"
      ],
      "execution_count": 45,
      "outputs": []
    },
    {
      "cell_type": "code",
      "metadata": {
        "id": "O6k7xYVgCda9"
      },
      "source": [
        "import tensorflow as tf"
      ],
      "execution_count": 46,
      "outputs": []
    },
    {
      "cell_type": "code",
      "metadata": {
        "id": "7T4r1DsvO1x4"
      },
      "source": [
        "from tensorflow.python.framework.ops import disable_eager_execution\n",
        "disable_eager_execution()\n",
        "tf.compat.v1.disable_eager_execution()\n",
        "grads = K.gradients(loss, combination_image)[0]\n",
        "fetch_loss_and_grads = K.function([combination_image], [loss, grads])\n",
        "\n",
        "class Evaluator(object):\n",
        "  def __init__(self):\n",
        "    self.loss_value = None\n",
        "    self.grads_values = None\n",
        "  def loss(self, x):\n",
        "    assert self.loss_value is None\n",
        "    x = x.reshape((1, img_height, img_width, 3))\n",
        "    outs = fetch_loss_and_grads([x])\n",
        "    loss_value = outs[0]\n",
        "    grad_values = outs[1].flatten().astype('float64')\n",
        "    self.loss_value = loss_value\n",
        "    self.grad_values = grad_values\n",
        "    return self.loss_value\n",
        "  def grads(self, x):\n",
        "    assert self.loss_value is not None\n",
        "    grad_values = np.copy(self.grad_values)\n",
        "    self.loss_value = None\n",
        "    self.grad_values = None\n",
        "    return grad_values\n",
        "evaluator = Evaluator()"
      ],
      "execution_count": 47,
      "outputs": []
    },
    {
      "cell_type": "code",
      "metadata": {
        "id": "HXx_AMJSO9zw"
      },
      "source": [
        "from scipy.optimize import fmin_l_bfgs_b\n",
        "from keras.preprocessing.image import save_img\n",
        "\n",
        "import time\n",
        "\n",
        "result_prefix = 'my_result'\n",
        "iterations = 20\n",
        "\n",
        "x = preprocess_image(target_image_path)\n",
        "x = x.flatten()\n"
      ],
      "execution_count": 48,
      "outputs": []
    },
    {
      "cell_type": "code",
      "metadata": {
        "colab": {
          "base_uri": "https://localhost:8080/"
        },
        "id": "69ppl_PQ7zki",
        "outputId": "0d73b500-ffc0-42fa-acb5-b992822d5c7c"
      },
      "source": [
        "for i in range(iterations):\n",
        "  print('Start of iteration', i)\n",
        "  start_time = time.time()\n",
        "  x, min_val, info = fmin_l_bfgs_b(evaluator.loss, x, fprime=evaluator.grads, maxfun=20)\n",
        "  print('Current loss value:', min_val)\n"
      ],
      "execution_count": 49,
      "outputs": [
        {
          "output_type": "stream",
          "name": "stdout",
          "text": [
            "Start of iteration 0\n",
            "Current loss value: 3479402500.0\n",
            "Start of iteration 1\n",
            "Current loss value: 1819736000.0\n",
            "Start of iteration 2\n",
            "Current loss value: 1223957900.0\n",
            "Start of iteration 3\n",
            "Current loss value: 908784200.0\n",
            "Start of iteration 4\n",
            "Current loss value: 713086800.0\n",
            "Start of iteration 5\n",
            "Current loss value: 582444860.0\n",
            "Start of iteration 6\n",
            "Current loss value: 506739650.0\n",
            "Start of iteration 7\n",
            "Current loss value: 459776700.0\n",
            "Start of iteration 8\n",
            "Current loss value: 418226850.0\n",
            "Start of iteration 9\n",
            "Current loss value: 385381700.0\n",
            "Start of iteration 10\n",
            "Current loss value: 363281440.0\n",
            "Start of iteration 11\n",
            "Current loss value: 342898880.0\n",
            "Start of iteration 12\n",
            "Current loss value: 328140100.0\n",
            "Start of iteration 13\n",
            "Current loss value: 311749220.0\n",
            "Start of iteration 14\n",
            "Current loss value: 299554660.0\n",
            "Start of iteration 15\n",
            "Current loss value: 289515550.0\n",
            "Start of iteration 16\n",
            "Current loss value: 280505600.0\n",
            "Start of iteration 17\n",
            "Current loss value: 272213440.0\n",
            "Start of iteration 18\n",
            "Current loss value: 264510260.0\n",
            "Start of iteration 19\n",
            "Current loss value: 256843280.0\n"
          ]
        }
      ]
    },
    {
      "cell_type": "code",
      "metadata": {
        "id": "nMc1WbyJ_6cd",
        "colab": {
          "base_uri": "https://localhost:8080/"
        },
        "outputId": "9fffa225-4952-40de-f5d1-d0aabe71b33c"
      },
      "source": [
        "\n",
        "img = x.copy().reshape((img_height, img_width, 3))\n",
        "img = deprocess_image(img)\n",
        "fname = result_prefix + '_at_iteration_%d.png' % i\n",
        "save_img(fname, img)\n",
        "print('Image saved as', fname)\n",
        "end_time = time.time()\n",
        "print('Iteration %d completed in %ds' % (i, end_time - start_time))"
      ],
      "execution_count": 56,
      "outputs": [
        {
          "output_type": "stream",
          "name": "stdout",
          "text": [
            "Image saved as my_result_at_iteration_19.png\n",
            "Iteration 19 completed in 554s\n"
          ]
        }
      ]
    },
    {
      "cell_type": "code",
      "metadata": {
        "colab": {
          "base_uri": "https://localhost:8080/"
        },
        "id": "rASLZvEcGrMa",
        "outputId": "baa4931a-f237-490d-d307-c3622428787b"
      },
      "source": [
        "img = x.copy().reshape((img_height, img_width, 3))\n",
        "img = deprocess_image(img)\n",
        "fname = result_prefix + '_at_iteration_%d.png' % i\n",
        "save_img(fname, img)\n",
        "print('Image saved as', fname)\n",
        "end_time = time.time()\n",
        "print('Iteration %d completed in %ds' % (i, end_time - start_time))"
      ],
      "execution_count": 57,
      "outputs": [
        {
          "output_type": "stream",
          "name": "stdout",
          "text": [
            "Image saved as my_result_at_iteration_19.png\n",
            "Iteration 19 completed in 603s\n"
          ]
        }
      ]
    }
  ]
}